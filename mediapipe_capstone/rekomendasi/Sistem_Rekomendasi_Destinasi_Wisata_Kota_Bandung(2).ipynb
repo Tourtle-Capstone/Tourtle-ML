{
  "metadata": {
    "kernelspec": {
      "language": "python",
      "display_name": "Python 3",
      "name": "python3"
    },
    "language_info": {
      "pygments_lexer": "ipython3",
      "nbconvert_exporter": "python",
      "version": "3.6.4",
      "file_extension": ".py",
      "codemirror_mode": {
        "name": "ipython",
        "version": 3
      },
      "name": "python",
      "mimetype": "text/x-python"
    },
    "colab": {
      "name": "Sistem Rekomendasi Destinasi Wisata Kota Bandung",
      "provenance": []
    }
  },
  "nbformat_minor": 0,
  "nbformat": 4,
  "cells": [
    {
      "source": [
        "\n",
        "# IMPORTANT: RUN THIS CELL IN ORDER TO IMPORT YOUR KAGGLE DATA SOURCES\n",
        "# TO THE CORRECT LOCATION (/kaggle/input) IN YOUR NOTEBOOK,\n",
        "# THEN FEEL FREE TO DELETE THIS CELL.\n",
        "# NOTE: THIS NOTEBOOK ENVIRONMENT DIFFERS FROM KAGGLE'S PYTHON\n",
        "# ENVIRONMENT SO THERE MAY BE MISSING LIBRARIES USED BY YOUR\n",
        "# NOTEBOOK.\n",
        "\n",
        "import os\n",
        "import sys\n",
        "from tempfile import NamedTemporaryFile\n",
        "from urllib.request import urlopen\n",
        "from urllib.parse import unquote, urlparse\n",
        "from urllib.error import HTTPError\n",
        "from zipfile import ZipFile\n",
        "import tarfile\n",
        "import shutil\n",
        "\n",
        "CHUNK_SIZE = 40960\n",
        "DATA_SOURCE_MAPPING = 'indonesia-tourism-destination:https%3A%2F%2Fstorage.googleapis.com%2Fkaggle-data-sets%2F1481754%2F2448367%2Fbundle%2Farchive.zip%3FX-Goog-Algorithm%3DGOOG4-RSA-SHA256%26X-Goog-Credential%3Dgcp-kaggle-com%2540kaggle-161607.iam.gserviceaccount.com%252F20240520%252Fauto%252Fstorage%252Fgoog4_request%26X-Goog-Date%3D20240520T182304Z%26X-Goog-Expires%3D259200%26X-Goog-SignedHeaders%3Dhost%26X-Goog-Signature%3D38786b53b53a54f2d20f3778fbcbf8aa060e6a7c99eda3b6050789ee2a8d7b0ab07f43a28250f508620bf309aa94f52d9e180d12fb70ab9a2f0358bb87101247e9c6a304811c2af768ce2f8ed927b0d88d5f662cc566a48cefecd48e198246c693fae2441f602d1695279633df40017c10078b25f72f88242f8894022b7deebf53c173a5796804ae1925addf228182596e0c907d0578b9ab2702dc6cb0b12b9dbf7c52ee50ad845bd6763b0b01ece5d98ab4db8d3f5b302ac1e2842fc36ea468f9f5075ce4e506eb0a74e3c01d99e4312242586f4444d1df2b704dff4ae34408d8d903116e216770d763f636cd48b9b020ad1fe08f8dd181d2b67b81a05061a5'\n",
        "\n",
        "KAGGLE_INPUT_PATH='/kaggle/input'\n",
        "KAGGLE_WORKING_PATH='/kaggle/working'\n",
        "KAGGLE_SYMLINK='kaggle'\n",
        "\n",
        "!umount /kaggle/input/ 2> /dev/null\n",
        "shutil.rmtree('/kaggle/input', ignore_errors=True)\n",
        "os.makedirs(KAGGLE_INPUT_PATH, 0o777, exist_ok=True)\n",
        "os.makedirs(KAGGLE_WORKING_PATH, 0o777, exist_ok=True)\n",
        "\n",
        "try:\n",
        "  os.symlink(KAGGLE_INPUT_PATH, os.path.join(\"..\", 'input'), target_is_directory=True)\n",
        "except FileExistsError:\n",
        "  pass\n",
        "try:\n",
        "  os.symlink(KAGGLE_WORKING_PATH, os.path.join(\"..\", 'working'), target_is_directory=True)\n",
        "except FileExistsError:\n",
        "  pass\n",
        "\n",
        "for data_source_mapping in DATA_SOURCE_MAPPING.split(','):\n",
        "    directory, download_url_encoded = data_source_mapping.split(':')\n",
        "    download_url = unquote(download_url_encoded)\n",
        "    filename = urlparse(download_url).path\n",
        "    destination_path = os.path.join(KAGGLE_INPUT_PATH, directory)\n",
        "    try:\n",
        "        with urlopen(download_url) as fileres, NamedTemporaryFile() as tfile:\n",
        "            total_length = fileres.headers['content-length']\n",
        "            print(f'Downloading {directory}, {total_length} bytes compressed')\n",
        "            dl = 0\n",
        "            data = fileres.read(CHUNK_SIZE)\n",
        "            while len(data) > 0:\n",
        "                dl += len(data)\n",
        "                tfile.write(data)\n",
        "                done = int(50 * dl / int(total_length))\n",
        "                sys.stdout.write(f\"\\r[{'=' * done}{' ' * (50-done)}] {dl} bytes downloaded\")\n",
        "                sys.stdout.flush()\n",
        "                data = fileres.read(CHUNK_SIZE)\n",
        "            if filename.endswith('.zip'):\n",
        "              with ZipFile(tfile) as zfile:\n",
        "                zfile.extractall(destination_path)\n",
        "            else:\n",
        "              with tarfile.open(tfile.name) as tarfile:\n",
        "                tarfile.extractall(destination_path)\n",
        "            print(f'\\nDownloaded and uncompressed: {directory}')\n",
        "    except HTTPError as e:\n",
        "        print(f'Failed to load (likely expired) {download_url} to path {destination_path}')\n",
        "        continue\n",
        "    except OSError as e:\n",
        "        print(f'Failed to load {download_url} to path {destination_path}')\n",
        "        continue\n",
        "\n",
        "print('Data source import complete.')\n"
      ],
      "metadata": {
        "id": "DWbgj1V1PjdM"
      },
      "cell_type": "code",
      "outputs": [],
      "execution_count": null
    },
    {
      "cell_type": "markdown",
      "source": [
        "# Sistem Rekomendasi Destinasi Wisata Kota Bandung Berbasis Collaborative Filtering\n",
        "<hr>\n",
        "\n",
        "#### Sumber data: https://www.kaggle.com/aprabowo/indonesia-tourism-destination\n",
        "#### Oleh: [Rafka Imanda Putra](https://www.kaggle.com/rafkaip)"
      ],
      "metadata": {
        "id": "pl_OzIlMljtM"
      }
    },
    {
      "cell_type": "markdown",
      "source": [
        "# Pendahuluan"
      ],
      "metadata": {
        "id": "UdTjoSqWlkp1"
      }
    },
    {
      "cell_type": "markdown",
      "source": [
        "<div>\n",
        "<img src=\"https://static.limakaki.com/2017/07/slide_12.jpg\" width=\"900\";/>\n",
        "</div>"
      ],
      "metadata": {
        "id": "CV79r6EnteBs"
      }
    },
    {
      "cell_type": "markdown",
      "source": [
        "Sebelum bepergian, biasanya seseorang akan membuat rencana terlebih dahulu tentang lokasi yang akan dikunjungi dan waktu keberangkatannya. Hal ini dilakukan untuk perencanaan sebelum berwisata ke suatu Kota.\n",
        "\n",
        "Kota Bandung memiliki daya tarik wisata yang cukup tinggi, namun dikutip dari humas.bandung.go.id/ jumlah wisatawan ke Kota Bandung turun 50% pada tahun 2021. Tentunya angka ini wajar karena penyebaran Covid-19 yang mengkhawatirkan di Indonesia.\n",
        "\n",
        "Untuk periode Oktober 2021, sejumlah wisata di Kota Bandung sudah mulai beroperasi, ini akan menjadi momentum yang tepat untuk menggerakkan pariwisata kembali.\n",
        "\n",
        "Pada projek ini, saya akan membuat sebuah sistem rekomendasi berbasis collaborative filtering untuk menampilkan top-n recommendation destinasi wisata di Kota Bandung berdasarkan data user, rating, dan place"
      ],
      "metadata": {
        "id": "j45x_5Bik84j"
      }
    },
    {
      "cell_type": "markdown",
      "source": [
        "# Alur Proses"
      ],
      "metadata": {
        "id": "9t4TWaJamCZc"
      }
    },
    {
      "cell_type": "markdown",
      "source": [
        "## 1. Mengimpor Library Python yang Dibutuhkan"
      ],
      "metadata": {
        "id": "BfabEt9PlW3u"
      }
    },
    {
      "cell_type": "code",
      "source": [
        "# Untuk pengolahan data\n",
        "import pandas as pd\n",
        "import numpy as np\n",
        "from zipfile import ZipFile\n",
        "from pathlib import Path\n",
        "\n",
        "# Untuk visualisasi data\n",
        "import seaborn as sns\n",
        "import matplotlib.pyplot as plt\n",
        "\n",
        "%matplotlib inline\n",
        "sns.set_palette('Set1')\n",
        "sns.set()\n",
        "\n",
        "# Untuk pemodelan\n",
        "import tensorflow as tf\n",
        "from tensorflow import keras\n",
        "from tensorflow.keras import layers\n",
        "\n",
        "# Untuk menghilangkan warnings saat plotting seaborn\n",
        "import warnings\n",
        "warnings.filterwarnings('ignore')\n",
        "\n",
        "# Untuk mengupload file\n",
        "import os"
      ],
      "metadata": {
        "id": "nIgpP-3ihkU0",
        "execution": {
          "iopub.status.busy": "2021-10-27T02:47:50.289232Z",
          "iopub.execute_input": "2021-10-27T02:47:50.289722Z",
          "iopub.status.idle": "2021-10-27T02:47:57.225664Z",
          "shell.execute_reply.started": "2021-10-27T02:47:50.289616Z",
          "shell.execute_reply": "2021-10-27T02:47:57.224748Z"
        },
        "trusted": true
      },
      "execution_count": null,
      "outputs": []
    },
    {
      "cell_type": "markdown",
      "source": [
        "## 2. Menyiapkan Dataset yang digunakan"
      ],
      "metadata": {
        "id": "YuAzSI5xyBOJ"
      }
    },
    {
      "cell_type": "code",
      "source": [
        "# Upload semua dataset yang dipakai\n",
        "for dirname, _, filenames in os.walk('/kaggle/input'):\n",
        "    for filename in filenames:\n",
        "        print(os.path.join(dirname, filename))"
      ],
      "metadata": {
        "id": "u58NPqZhhn-l",
        "execution": {
          "iopub.status.busy": "2021-10-27T02:47:57.227763Z",
          "iopub.execute_input": "2021-10-27T02:47:57.228062Z",
          "iopub.status.idle": "2021-10-27T02:47:57.241949Z",
          "shell.execute_reply.started": "2021-10-27T02:47:57.228019Z",
          "shell.execute_reply": "2021-10-27T02:47:57.241285Z"
        },
        "trusted": true
      },
      "execution_count": null,
      "outputs": []
    },
    {
      "cell_type": "markdown",
      "source": [
        "##### Keterangan:\n",
        "* tourism_with_id.csv - mengandung informasi tempak wisata di 5 kota besar di Indonesia (hanya kota Bandung yang dipakai)\n",
        "* user.csv - mengandung informasi pengguna untuk membuat rekomendasi fitur berdasar pengguna\n",
        "* tourism_rating.csv - mengandung informasi pengguna, tempat wisata, dan rating untuk membuat sistem rekomendasi berdasar rating\n"
      ],
      "metadata": {
        "id": "Ls7Ze-uWnlLM"
      }
    },
    {
      "cell_type": "markdown",
      "source": [
        "## 3. Data Understanding"
      ],
      "metadata": {
        "id": "rQvGwWhCx3SZ"
      }
    },
    {
      "cell_type": "markdown",
      "source": [
        "### 3.1 Menyiapkan Data"
      ],
      "metadata": {
        "id": "VXlIb7w1yZkc"
      }
    },
    {
      "cell_type": "code",
      "source": [
        "# Menyimpan masing-masing dataset kedalam variabel\n",
        "\n",
        "rating = pd.read_csv('/kaggle/input/indonesia-tourism-destination/tourism_rating.csv')\n",
        "place = pd.read_csv('/kaggle/input/indonesia-tourism-destination/tourism_with_id.csv')\n",
        "user = pd.read_csv('/kaggle/input/indonesia-tourism-destination/user.csv')"
      ],
      "metadata": {
        "id": "1peKJ4nBjgDB",
        "execution": {
          "iopub.status.busy": "2021-10-27T02:47:57.243043Z",
          "iopub.execute_input": "2021-10-27T02:47:57.243377Z",
          "iopub.status.idle": "2021-10-27T02:47:57.301091Z",
          "shell.execute_reply.started": "2021-10-27T02:47:57.243347Z",
          "shell.execute_reply": "2021-10-27T02:47:57.300402Z"
        },
        "trusted": true
      },
      "execution_count": null,
      "outputs": []
    },
    {
      "cell_type": "markdown",
      "source": [
        "### 3.2 Eksplorasi Fitur-fitur pada Data"
      ],
      "metadata": {
        "id": "IhgAOgsTyeaX"
      }
    },
    {
      "cell_type": "markdown",
      "source": [
        "#### 3.2.1. Data place"
      ],
      "metadata": {
        "id": "Tc6EM20Iywo3"
      }
    },
    {
      "cell_type": "code",
      "source": [
        "# Melihat gambaran data place\n",
        "\n",
        "place.head(2)"
      ],
      "metadata": {
        "id": "HnXNiyxt0hb3",
        "execution": {
          "iopub.status.busy": "2021-10-27T02:47:57.302999Z",
          "iopub.execute_input": "2021-10-27T02:47:57.30345Z",
          "iopub.status.idle": "2021-10-27T02:47:57.326257Z",
          "shell.execute_reply.started": "2021-10-27T02:47:57.303417Z",
          "shell.execute_reply": "2021-10-27T02:47:57.325692Z"
        },
        "trusted": true
      },
      "execution_count": null,
      "outputs": []
    },
    {
      "cell_type": "code",
      "source": [
        "# Membuang kolom yang tidak dipakai\n",
        "\n",
        "place = place.drop(['Unnamed: 11','Unnamed: 12'],axis=1)\n",
        "place.head(2)"
      ],
      "metadata": {
        "id": "eFZErucJzMKU",
        "execution": {
          "iopub.status.busy": "2021-10-27T02:47:57.327309Z",
          "iopub.execute_input": "2021-10-27T02:47:57.327674Z",
          "iopub.status.idle": "2021-10-27T02:47:57.348001Z",
          "shell.execute_reply.started": "2021-10-27T02:47:57.327644Z",
          "shell.execute_reply": "2021-10-27T02:47:57.347307Z"
        },
        "trusted": true
      },
      "execution_count": null,
      "outputs": []
    },
    {
      "cell_type": "code",
      "source": [
        "# Merubah data agar hanya dari Kota Bandung\n",
        "\n",
        "place = place[place['City']=='Bandung']\n",
        "place.head(2)"
      ],
      "metadata": {
        "id": "jzw8PQIdEPZ5",
        "execution": {
          "iopub.status.busy": "2021-10-27T02:47:57.348946Z",
          "iopub.execute_input": "2021-10-27T02:47:57.349623Z",
          "iopub.status.idle": "2021-10-27T02:47:57.372157Z",
          "shell.execute_reply.started": "2021-10-27T02:47:57.349573Z",
          "shell.execute_reply": "2021-10-27T02:47:57.3713Z"
        },
        "trusted": true
      },
      "execution_count": null,
      "outputs": []
    },
    {
      "cell_type": "code",
      "source": [
        "place.info()"
      ],
      "metadata": {
        "id": "VhvGY2QEzghW",
        "execution": {
          "iopub.status.busy": "2021-10-27T02:47:57.373432Z",
          "iopub.execute_input": "2021-10-27T02:47:57.373856Z",
          "iopub.status.idle": "2021-10-27T02:47:57.391689Z",
          "shell.execute_reply.started": "2021-10-27T02:47:57.373822Z",
          "shell.execute_reply": "2021-10-27T02:47:57.39086Z"
        },
        "trusted": true
      },
      "execution_count": null,
      "outputs": []
    },
    {
      "cell_type": "code",
      "source": [
        "# Membuang kolom yang tidak dipakai\n",
        "\n",
        "place = place.drop('Time_Minutes', axis=1)"
      ],
      "metadata": {
        "id": "uO8SEj_mznSb",
        "execution": {
          "iopub.status.busy": "2021-10-27T02:47:57.393086Z",
          "iopub.execute_input": "2021-10-27T02:47:57.393332Z",
          "iopub.status.idle": "2021-10-27T02:47:57.39819Z",
          "shell.execute_reply.started": "2021-10-27T02:47:57.393302Z",
          "shell.execute_reply": "2021-10-27T02:47:57.397561Z"
        },
        "trusted": true
      },
      "execution_count": null,
      "outputs": []
    },
    {
      "cell_type": "markdown",
      "source": [
        "#### 3.2.2. Data rating"
      ],
      "metadata": {
        "id": "MkmQhBc9yrpq"
      }
    },
    {
      "cell_type": "code",
      "source": [
        "# melihat gambaran data rating\n",
        "\n",
        "rating.head()"
      ],
      "metadata": {
        "id": "6LQMIb7s0cFU",
        "execution": {
          "iopub.status.busy": "2021-10-27T02:47:57.39915Z",
          "iopub.execute_input": "2021-10-27T02:47:57.399565Z",
          "iopub.status.idle": "2021-10-27T02:47:57.414473Z",
          "shell.execute_reply.started": "2021-10-27T02:47:57.399532Z",
          "shell.execute_reply": "2021-10-27T02:47:57.413438Z"
        },
        "trusted": true
      },
      "execution_count": null,
      "outputs": []
    },
    {
      "cell_type": "code",
      "source": [
        "rating.info()"
      ],
      "metadata": {
        "id": "jyaUT8hhzAil",
        "execution": {
          "iopub.status.busy": "2021-10-27T02:47:57.417682Z",
          "iopub.execute_input": "2021-10-27T02:47:57.418005Z",
          "iopub.status.idle": "2021-10-27T02:47:57.430243Z",
          "shell.execute_reply.started": "2021-10-27T02:47:57.417973Z",
          "shell.execute_reply": "2021-10-27T02:47:57.429156Z"
        },
        "trusted": true
      },
      "execution_count": null,
      "outputs": []
    },
    {
      "cell_type": "code",
      "source": [
        "# Merubah data rating agar hanya berisi rating pada tempat wisata dari Kota Bandung\n",
        "\n",
        "rating = pd.merge(rating, place[['Place_Id']], how='right', on='Place_Id')\n",
        "rating.head()"
      ],
      "metadata": {
        "id": "HpkN9Ggoz7zd",
        "execution": {
          "iopub.status.busy": "2021-10-27T02:47:57.431851Z",
          "iopub.execute_input": "2021-10-27T02:47:57.432166Z",
          "iopub.status.idle": "2021-10-27T02:47:57.450842Z",
          "shell.execute_reply.started": "2021-10-27T02:47:57.432125Z",
          "shell.execute_reply": "2021-10-27T02:47:57.44994Z"
        },
        "trusted": true
      },
      "execution_count": null,
      "outputs": []
    },
    {
      "cell_type": "code",
      "source": [
        "# Melihat ukuran dataset rating untuk Kota Bandung\n",
        "\n",
        "rating.shape"
      ],
      "metadata": {
        "id": "bGlaAHg2yyws",
        "execution": {
          "iopub.status.busy": "2021-10-27T02:47:57.452746Z",
          "iopub.execute_input": "2021-10-27T02:47:57.453233Z",
          "iopub.status.idle": "2021-10-27T02:47:57.459573Z",
          "shell.execute_reply.started": "2021-10-27T02:47:57.45319Z",
          "shell.execute_reply": "2021-10-27T02:47:57.458562Z"
        },
        "trusted": true
      },
      "execution_count": null,
      "outputs": []
    },
    {
      "cell_type": "markdown",
      "source": [
        "#### 3.2.3. Data user"
      ],
      "metadata": {
        "id": "CNSsKN17y4Q-"
      }
    },
    {
      "cell_type": "code",
      "source": [
        "# Melihat gambaran data user\n",
        "\n",
        "user.head()"
      ],
      "metadata": {
        "id": "JpISoTwn06HO",
        "execution": {
          "iopub.status.busy": "2021-10-27T02:47:57.46155Z",
          "iopub.execute_input": "2021-10-27T02:47:57.461777Z",
          "iopub.status.idle": "2021-10-27T02:47:57.474513Z",
          "shell.execute_reply.started": "2021-10-27T02:47:57.461751Z",
          "shell.execute_reply": "2021-10-27T02:47:57.473546Z"
        },
        "trusted": true
      },
      "execution_count": null,
      "outputs": []
    },
    {
      "cell_type": "code",
      "source": [
        "# Merubah data user agar hanya berisi user yang pernah megunjungi wisata di Kota Bandung\n",
        "\n",
        "user = pd.merge(user, rating[['User_Id']], how='right', on='User_Id').drop_duplicates().sort_values('User_Id')\n",
        "user.head()"
      ],
      "metadata": {
        "id": "fQ_CVdh34EL4",
        "execution": {
          "iopub.status.busy": "2021-10-27T02:47:57.475978Z",
          "iopub.execute_input": "2021-10-27T02:47:57.47645Z",
          "iopub.status.idle": "2021-10-27T02:47:57.500759Z",
          "shell.execute_reply.started": "2021-10-27T02:47:57.476406Z",
          "shell.execute_reply": "2021-10-27T02:47:57.499622Z"
        },
        "trusted": true
      },
      "execution_count": null,
      "outputs": []
    },
    {
      "cell_type": "code",
      "source": [
        "# Melihat dataset user yang pernah memberi rating pada wisata di Kota Bandung\n",
        "\n",
        "user.shape"
      ],
      "metadata": {
        "id": "BhoRngVgy_ZO",
        "execution": {
          "iopub.status.busy": "2021-10-27T02:47:57.504058Z",
          "iopub.execute_input": "2021-10-27T02:47:57.504887Z",
          "iopub.status.idle": "2021-10-27T02:47:57.511537Z",
          "shell.execute_reply.started": "2021-10-27T02:47:57.50485Z",
          "shell.execute_reply": "2021-10-27T02:47:57.510675Z"
        },
        "trusted": true
      },
      "execution_count": null,
      "outputs": []
    },
    {
      "cell_type": "markdown",
      "source": [
        "## 4. Eksplorasi Data"
      ],
      "metadata": {
        "id": "VY-wWvMjt2kh"
      }
    },
    {
      "cell_type": "code",
      "source": [
        "# Membuat dataframe berisi lokasi dengan jumlah rating terbanyak\n",
        "top_10 = rating['Place_Id'].value_counts().reset_index()[0:10]\n",
        "top_10 = pd.merge(top_10, place[['Place_Id','Place_Name']], how='left', left_on='index', right_on='Place_Id')\n",
        "\n",
        "# Membuat visualisasi wisata dengan jumlah rating terbanyak\n",
        "plt.figure(figsize=(8,5))\n",
        "sns.barplot('Place_Id_x', 'Place_Name', data=top_10)\n",
        "plt.title('Jumlah Tempat Wisata dengan Rating Terbanyak', pad=20)\n",
        "plt.ylabel('Jumlah Rating')\n",
        "plt.xlabel('Nama Lokasi')\n",
        "plt.show()"
      ],
      "metadata": {
        "id": "VU0VTqlLMhME",
        "execution": {
          "iopub.status.busy": "2021-10-27T02:47:57.512826Z",
          "iopub.execute_input": "2021-10-27T02:47:57.513112Z",
          "iopub.status.idle": "2021-10-27T02:47:58.064185Z",
          "shell.execute_reply.started": "2021-10-27T02:47:57.513084Z",
          "shell.execute_reply": "2021-10-27T02:47:58.063238Z"
        },
        "trusted": true
      },
      "execution_count": null,
      "outputs": []
    },
    {
      "cell_type": "code",
      "source": [
        "# Membuat visualisasi jumlah kategori wisata di Kota Bandung\n",
        "\n",
        "sns.countplot(y='Category', data=place)\n",
        "plt.title('Perbandingan Jumlah Kategori Wisata di Kota Bandung', pad=20)\n",
        "plt.show()"
      ],
      "metadata": {
        "id": "tPPihnSA6LS8",
        "execution": {
          "iopub.status.busy": "2021-10-27T02:47:58.065436Z",
          "iopub.execute_input": "2021-10-27T02:47:58.06566Z",
          "iopub.status.idle": "2021-10-27T02:47:58.318334Z",
          "shell.execute_reply.started": "2021-10-27T02:47:58.065634Z",
          "shell.execute_reply": "2021-10-27T02:47:58.317466Z"
        },
        "trusted": true
      },
      "execution_count": null,
      "outputs": []
    },
    {
      "cell_type": "code",
      "source": [
        "# Membuat visualisasi distribusi usia user\n",
        "\n",
        "plt.figure(figsize=(5,3))\n",
        "sns.boxplot(user['Age']);\n",
        "plt.title('Distribusi Usia User', pad=20)\n",
        "plt.show()"
      ],
      "metadata": {
        "id": "Nr0chrAsLl01",
        "execution": {
          "iopub.status.busy": "2021-10-27T02:47:58.31944Z",
          "iopub.execute_input": "2021-10-27T02:47:58.319681Z",
          "iopub.status.idle": "2021-10-27T02:47:58.534462Z",
          "shell.execute_reply.started": "2021-10-27T02:47:58.319653Z",
          "shell.execute_reply": "2021-10-27T02:47:58.533558Z"
        },
        "trusted": true
      },
      "execution_count": null,
      "outputs": []
    },
    {
      "cell_type": "code",
      "source": [
        "# Membuat visualisasi distribusi harga masuk tempat wisata\n",
        "\n",
        "plt.figure(figsize=(7,3))\n",
        "sns.boxplot(place['Price'])\n",
        "plt.title('Distribusi Harga Masuk Wisata di Kota Bandung', pad=20)\n",
        "plt.show()"
      ],
      "metadata": {
        "id": "ZSHgC9UqSK3J",
        "execution": {
          "iopub.status.busy": "2021-10-27T02:47:58.536316Z",
          "iopub.execute_input": "2021-10-27T02:47:58.536645Z",
          "iopub.status.idle": "2021-10-27T02:47:58.781186Z",
          "shell.execute_reply.started": "2021-10-27T02:47:58.536602Z",
          "shell.execute_reply": "2021-10-27T02:47:58.780263Z"
        },
        "trusted": true
      },
      "execution_count": null,
      "outputs": []
    },
    {
      "cell_type": "code",
      "source": [
        "# Memfilter asal kota dari user\n",
        "askot = user['Location'].apply(lambda x : x.split(',')[0])\n",
        "\n",
        "# Visualisasi asal kota dari user\n",
        "plt.figure(figsize=(8,6))\n",
        "sns.countplot(y=askot)\n",
        "plt.title('Jumlah Asal Kota dari User')\n",
        "plt.show()"
      ],
      "metadata": {
        "id": "kGobMR32UHps",
        "execution": {
          "iopub.status.busy": "2021-10-27T02:47:58.782474Z",
          "iopub.execute_input": "2021-10-27T02:47:58.782713Z",
          "iopub.status.idle": "2021-10-27T02:47:59.234796Z",
          "shell.execute_reply.started": "2021-10-27T02:47:58.782684Z",
          "shell.execute_reply": "2021-10-27T02:47:59.234133Z"
        },
        "trusted": true
      },
      "execution_count": null,
      "outputs": []
    },
    {
      "cell_type": "markdown",
      "source": [
        "## 5. Persiapan Data untuk Pemodelan"
      ],
      "metadata": {
        "id": "Af3XQ2miZaRH"
      }
    },
    {
      "cell_type": "markdown",
      "source": [
        "### 5.1. Membuat Salinan Data rating"
      ],
      "metadata": {
        "id": "JyAtGmZF2kqK"
      }
    },
    {
      "cell_type": "code",
      "source": [
        "# Membaca dataset untuk dilakukan encoding\n",
        "\n",
        "df = rating.copy()\n",
        "df.head()"
      ],
      "metadata": {
        "id": "n47SDsSXZdck",
        "execution": {
          "iopub.status.busy": "2021-10-27T02:47:59.235827Z",
          "iopub.execute_input": "2021-10-27T02:47:59.236541Z",
          "iopub.status.idle": "2021-10-27T02:47:59.246232Z",
          "shell.execute_reply.started": "2021-10-27T02:47:59.236499Z",
          "shell.execute_reply": "2021-10-27T02:47:59.245278Z"
        },
        "trusted": true
      },
      "execution_count": null,
      "outputs": []
    },
    {
      "cell_type": "markdown",
      "source": [
        "### 5.2. Melakukan Encoding"
      ],
      "metadata": {
        "id": "-h8alpCZ3JDS"
      }
    },
    {
      "cell_type": "markdown",
      "source": [
        "#### 5.2.1. Membuat Fungsi untuk Melakukan Encoding"
      ],
      "metadata": {
        "id": "Wrl4fNfv522X"
      }
    },
    {
      "cell_type": "code",
      "source": [
        "def dict_encoder(col, data=df):\n",
        "\n",
        "  # Mengubah kolom suatu dataframe menjadi list tanpa nilai yang sama\n",
        "  unique_val = data[col].unique().tolist()\n",
        "\n",
        "  # Melakukan encoding value kolom suatu dataframe ke angka\n",
        "  val_to_val_encoded = {x: i for i, x in enumerate(unique_val)}\n",
        "\n",
        "  # Melakukan proses encoding angka ke value dari kolom suatu dataframe\n",
        "  val_encoded_to_val = {i: x for i, x in enumerate(unique_val)}\n",
        "  return val_to_val_encoded, val_encoded_to_val"
      ],
      "metadata": {
        "id": "O1xFj77E3OnN",
        "execution": {
          "iopub.status.busy": "2021-10-27T02:47:59.247692Z",
          "iopub.execute_input": "2021-10-27T02:47:59.247931Z",
          "iopub.status.idle": "2021-10-27T02:47:59.257812Z",
          "shell.execute_reply.started": "2021-10-27T02:47:59.247902Z",
          "shell.execute_reply": "2021-10-27T02:47:59.257016Z"
        },
        "trusted": true
      },
      "execution_count": null,
      "outputs": []
    },
    {
      "cell_type": "markdown",
      "source": [
        "#### 5.2.2. Encoding dan Mapping Kolom User"
      ],
      "metadata": {
        "id": "OWac6MRz0nhV"
      }
    },
    {
      "cell_type": "code",
      "source": [
        "# Encoding User_Id\n",
        "user_to_user_encoded, user_encoded_to_user = dict_encoder('User_Id')\n",
        "\n",
        "# Mapping User_Id ke dataframe\n",
        "df['user'] = df['User_Id'].map(user_to_user_encoded)"
      ],
      "metadata": {
        "id": "aUp25qsF4Tkp",
        "execution": {
          "iopub.status.busy": "2021-10-27T02:47:59.259205Z",
          "iopub.execute_input": "2021-10-27T02:47:59.259621Z",
          "iopub.status.idle": "2021-10-27T02:47:59.269938Z",
          "shell.execute_reply.started": "2021-10-27T02:47:59.259571Z",
          "shell.execute_reply": "2021-10-27T02:47:59.268985Z"
        },
        "trusted": true
      },
      "execution_count": null,
      "outputs": []
    },
    {
      "cell_type": "markdown",
      "source": [
        "#### 5.2.3. Encoding dan Mapping Kolom Place"
      ],
      "metadata": {
        "id": "Ff1BSl4H5aMx"
      }
    },
    {
      "cell_type": "code",
      "source": [
        "# Encoding Place_Id\n",
        "place_to_place_encoded, place_encoded_to_place = dict_encoder('Place_Id')\n",
        "\n",
        "# Mapping Place_Id ke dataframe place\n",
        "df['place'] = df['Place_Id'].map(place_to_place_encoded)"
      ],
      "metadata": {
        "id": "_td4s8-e5hYA",
        "execution": {
          "iopub.status.busy": "2021-10-27T02:47:59.271886Z",
          "iopub.execute_input": "2021-10-27T02:47:59.272532Z",
          "iopub.status.idle": "2021-10-27T02:47:59.284292Z",
          "shell.execute_reply.started": "2021-10-27T02:47:59.272451Z",
          "shell.execute_reply": "2021-10-27T02:47:59.28351Z"
        },
        "trusted": true
      },
      "execution_count": null,
      "outputs": []
    },
    {
      "cell_type": "markdown",
      "source": [
        "### 5.3. Melihat Gambaran Data untuk Pemodelan"
      ],
      "metadata": {
        "id": "JyphV9zl60Bw"
      }
    },
    {
      "cell_type": "code",
      "source": [
        "# Mendapatkan jumlah user dan place\n",
        "num_users, num_place = len(user_to_user_encoded), len(place_to_place_encoded)\n",
        "\n",
        "# Mengubah rating menjadi nilai float\n",
        "df['Place_Ratings'] = df['Place_Ratings'].values.astype(np.float32)\n",
        "\n",
        "# Mendapatkan nilai minimum dan maksimum rating\n",
        "min_rating, max_rating = min(df['Place_Ratings']), max(df['Place_Ratings'])\n",
        "\n",
        "print(f'Number of User: {num_users}, Number of Place: {num_place}, Min Rating: {min_rating}, Max Rating: {max_rating}')"
      ],
      "metadata": {
        "id": "aRhkdzsPaNUJ",
        "execution": {
          "iopub.status.busy": "2021-10-27T02:47:59.285323Z",
          "iopub.execute_input": "2021-10-27T02:47:59.286203Z",
          "iopub.status.idle": "2021-10-27T02:47:59.29691Z",
          "shell.execute_reply.started": "2021-10-27T02:47:59.286163Z",
          "shell.execute_reply": "2021-10-27T02:47:59.296035Z"
        },
        "trusted": true
      },
      "execution_count": null,
      "outputs": []
    },
    {
      "cell_type": "code",
      "source": [
        "# Mengacak dataset\n",
        "df = df.sample(frac=1, random_state=42)\n",
        "df.head(2)"
      ],
      "metadata": {
        "id": "dLJWzgRyZ-qZ",
        "execution": {
          "iopub.status.busy": "2021-10-27T02:47:59.29832Z",
          "iopub.execute_input": "2021-10-27T02:47:59.298997Z",
          "iopub.status.idle": "2021-10-27T02:47:59.315306Z",
          "shell.execute_reply.started": "2021-10-27T02:47:59.298949Z",
          "shell.execute_reply": "2021-10-27T02:47:59.314429Z"
        },
        "trusted": true
      },
      "execution_count": null,
      "outputs": []
    },
    {
      "cell_type": "markdown",
      "source": [
        "## 6. Pemodelan Machine Learning dengan RecommenderNet"
      ],
      "metadata": {
        "id": "w84bLhXK1ZmR"
      }
    },
    {
      "cell_type": "markdown",
      "source": [
        "### 6.1. Membagi data train dan test"
      ],
      "metadata": {
        "id": "fFHmau_V1nym"
      }
    },
    {
      "cell_type": "code",
      "source": [
        "# Membuat variabel x untuk mencocokkan data user dan place menjadi satu value\n",
        "x = df[['user', 'place']].values\n",
        "\n",
        "# Membuat variabel y untuk membuat rating dari hasil\n",
        "y = df['Place_Ratings'].apply(lambda x: (x - min_rating) / (max_rating - min_rating)).values\n",
        "\n",
        "# Membagi menjadi 80% data train dan 20% data validasi\n",
        "train_indices = int(0.8 * df.shape[0])\n",
        "x_train, x_val, y_train, y_val = (\n",
        "    x[:train_indices],\n",
        "    x[train_indices:],\n",
        "    y[:train_indices],\n",
        "    y[train_indices:]\n",
        ")"
      ],
      "metadata": {
        "id": "5ke4UQfBZ_SX",
        "execution": {
          "iopub.status.busy": "2021-10-27T02:47:59.316464Z",
          "iopub.execute_input": "2021-10-27T02:47:59.316732Z",
          "iopub.status.idle": "2021-10-27T02:47:59.327092Z",
          "shell.execute_reply.started": "2021-10-27T02:47:59.316702Z",
          "shell.execute_reply": "2021-10-27T02:47:59.326242Z"
        },
        "trusted": true
      },
      "execution_count": null,
      "outputs": []
    },
    {
      "cell_type": "markdown",
      "source": [
        "### 6.2. Menyiapkan Model"
      ],
      "metadata": {
        "id": "SElD8TDB1744"
      }
    },
    {
      "cell_type": "markdown",
      "source": [
        "#### 6.2.1. Inisialisasi Fungsi"
      ],
      "metadata": {
        "id": "63cJPBop8uN1"
      }
    },
    {
      "cell_type": "code",
      "source": [
        "class RecommenderNet(tf.keras.Model):\n",
        "\n",
        "  # Insialisasi fungsi\n",
        "  def __init__(self, num_users, num_places, embedding_size, **kwargs):\n",
        "    super(RecommenderNet, self).__init__(**kwargs)\n",
        "    self.num_users = num_users\n",
        "    self.num_places = num_places\n",
        "    self.embedding_size = embedding_size\n",
        "    self.user_embedding = layers.Embedding( # layer embedding user\n",
        "        num_users,\n",
        "        embedding_size,\n",
        "        embeddings_initializer = 'he_normal',\n",
        "        embeddings_regularizer = keras.regularizers.l2(1e-6)\n",
        "    )\n",
        "    self.user_bias = layers.Embedding(num_users, 1) # layer embedding user bias\n",
        "    self.places_embedding = layers.Embedding( # layer embeddings places\n",
        "        num_places,\n",
        "        embedding_size,\n",
        "        embeddings_initializer = 'he_normal',\n",
        "        embeddings_regularizer = keras.regularizers.l2(1e-6)\n",
        "    )\n",
        "    self.places_bias = layers.Embedding(num_places, 1) # layer embedding places bias\n",
        "\n",
        "  def call(self, inputs):\n",
        "    user_vector = self.user_embedding(inputs[:,0]) # memanggil layer embedding 1\n",
        "    user_bias = self.user_bias(inputs[:, 0]) # memanggil layer embedding 2\n",
        "    places_vector = self.places_embedding(inputs[:, 1]) # memanggil layer embedding 3\n",
        "    places_bias = self.places_bias(inputs[:, 1]) # memanggil layer embedding 4\n",
        "\n",
        "    dot_user_places = tf.tensordot(user_vector, places_vector, 2)\n",
        "\n",
        "    x = dot_user_places + user_bias + places_bias\n",
        "\n",
        "    return tf.nn.sigmoid(x) # activation sigmoid"
      ],
      "metadata": {
        "id": "CuYEmQa3avO8",
        "execution": {
          "iopub.status.busy": "2021-10-27T02:47:59.331791Z",
          "iopub.execute_input": "2021-10-27T02:47:59.332048Z",
          "iopub.status.idle": "2021-10-27T02:47:59.342759Z",
          "shell.execute_reply.started": "2021-10-27T02:47:59.332022Z",
          "shell.execute_reply": "2021-10-27T02:47:59.341803Z"
        },
        "trusted": true
      },
      "execution_count": null,
      "outputs": []
    },
    {
      "cell_type": "markdown",
      "source": [
        "#### 6.2.2. Inisialisasi Model"
      ],
      "metadata": {
        "id": "Mi9E6U3V9HLU"
      }
    },
    {
      "cell_type": "code",
      "source": [
        "model = RecommenderNet(num_users, num_place, 50) # inisialisasi model\n",
        "\n",
        "# model compile\n",
        "model.compile(\n",
        "    loss = tf.keras.losses.BinaryCrossentropy(),\n",
        "    optimizer = keras.optimizers.Adam(learning_rate=0.0004),\n",
        "    metrics=[tf.keras.metrics.RootMeanSquaredError()]\n",
        ")"
      ],
      "metadata": {
        "id": "Vuj1NPJoa0Gt",
        "execution": {
          "iopub.status.busy": "2021-10-27T02:47:59.344419Z",
          "iopub.execute_input": "2021-10-27T02:47:59.344792Z",
          "iopub.status.idle": "2021-10-27T02:47:59.441879Z",
          "shell.execute_reply.started": "2021-10-27T02:47:59.344761Z",
          "shell.execute_reply": "2021-10-27T02:47:59.441011Z"
        },
        "trusted": true
      },
      "execution_count": null,
      "outputs": []
    },
    {
      "cell_type": "markdown",
      "source": [
        "#### 6.2.2. Inisialisasi Callbacks"
      ],
      "metadata": {
        "id": "76Kvt1gJ-fuV"
      }
    },
    {
      "cell_type": "code",
      "source": [
        " class myCallback(tf.keras.callbacks.Callback):\n",
        "  def on_epoch_end(self, epoch, logs={}):\n",
        "    if(logs.get('val_root_mean_squared_error')<0.25):\n",
        "      print('Lapor! Metriks validasi sudah sesuai harapan')\n",
        "      self.model.stop_training = True"
      ],
      "metadata": {
        "id": "_mkG8hVb-i7R",
        "execution": {
          "iopub.status.busy": "2021-10-27T02:47:59.44297Z",
          "iopub.execute_input": "2021-10-27T02:47:59.443216Z",
          "iopub.status.idle": "2021-10-27T02:47:59.449512Z",
          "shell.execute_reply.started": "2021-10-27T02:47:59.443177Z",
          "shell.execute_reply": "2021-10-27T02:47:59.448376Z"
        },
        "trusted": true
      },
      "execution_count": null,
      "outputs": []
    },
    {
      "cell_type": "markdown",
      "source": [
        "#### 6.2.3. Proses Training"
      ],
      "metadata": {
        "id": "kCvTLfOA9Pa5"
      }
    },
    {
      "cell_type": "code",
      "source": [
        "# Memulai training\n",
        "\n",
        "history = model.fit(\n",
        "    x = x_train,\n",
        "    y = y_train,\n",
        "    epochs = 100,\n",
        "    validation_data = (x_val, y_val),\n",
        "    callbacks = [myCallback()]\n",
        ")"
      ],
      "metadata": {
        "id": "Fi9h5xfWa3NB",
        "execution": {
          "iopub.status.busy": "2021-10-27T02:47:59.451273Z",
          "iopub.execute_input": "2021-10-27T02:47:59.452284Z",
          "iopub.status.idle": "2021-10-27T02:48:17.170723Z",
          "shell.execute_reply.started": "2021-10-27T02:47:59.452166Z",
          "shell.execute_reply": "2021-10-27T02:48:17.169906Z"
        },
        "trusted": true
      },
      "execution_count": null,
      "outputs": []
    },
    {
      "cell_type": "code",
      "source": [
        "# Menampilkan plot loss dan validation\n",
        "\n",
        "plt.plot(history.history['root_mean_squared_error'])\n",
        "plt.plot(history.history['val_root_mean_squared_error'])\n",
        "plt.title('model_metrics')\n",
        "plt.ylabel('root_mean_squared_error')\n",
        "plt.xlabel('epoch')\n",
        "plt.ylim(ymin=0, ymax=0.4)\n",
        "plt.legend(['train', 'test'], loc='center left')\n",
        "plt.show()"
      ],
      "metadata": {
        "id": "LSIBifava531",
        "execution": {
          "iopub.status.busy": "2021-10-27T02:48:17.172389Z",
          "iopub.execute_input": "2021-10-27T02:48:17.172649Z",
          "iopub.status.idle": "2021-10-27T02:48:17.457773Z",
          "shell.execute_reply.started": "2021-10-27T02:48:17.172618Z",
          "shell.execute_reply": "2021-10-27T02:48:17.45692Z"
        },
        "trusted": true
      },
      "execution_count": null,
      "outputs": []
    },
    {
      "cell_type": "markdown",
      "source": [
        "## 7. Memprediksi Top 7 Rekomendasi"
      ],
      "metadata": {
        "id": "slW4RqK5AvYD"
      }
    },
    {
      "cell_type": "markdown",
      "source": [
        "#### 7.1 Menyiapkan DataFrame untuk Menampilkan Hasil Rekomendasi"
      ],
      "metadata": {
        "id": "JXYjisJCDYht"
      }
    },
    {
      "cell_type": "code",
      "source": [
        "# Menyiapkan dataframe\n",
        "place_df = place[['Place_Id','Place_Name','Category','Rating','Price']]\n",
        "place_df.columns = ['id','place_name','category','rating','price']\n",
        "df = rating.copy()"
      ],
      "metadata": {
        "id": "QVJb3B5HbeBR",
        "execution": {
          "iopub.status.busy": "2021-10-27T02:48:17.459224Z",
          "iopub.execute_input": "2021-10-27T02:48:17.459478Z",
          "iopub.status.idle": "2021-10-27T02:48:17.466194Z",
          "shell.execute_reply.started": "2021-10-27T02:48:17.459448Z",
          "shell.execute_reply": "2021-10-27T02:48:17.465428Z"
        },
        "trusted": true
      },
      "execution_count": null,
      "outputs": []
    },
    {
      "cell_type": "markdown",
      "source": [
        "#### 7.2. Menyiapkan contoh User untuk Menampilkan Rekomendasi"
      ],
      "metadata": {
        "id": "Ll1D8D8qDp0J"
      }
    },
    {
      "cell_type": "markdown",
      "source": [
        "#### 7.2.1 Mencari User"
      ],
      "metadata": {
        "id": "M10zuXK4EdLt"
      }
    },
    {
      "cell_type": "code",
      "source": [
        "# Mengambil sample user\n",
        "user_id = df.User_Id.sample(1).iloc[0]\n",
        "place_visited_by_user = df[df.User_Id == user_id]"
      ],
      "metadata": {
        "id": "Ixzzpaj6B4E-",
        "execution": {
          "iopub.status.busy": "2021-10-27T02:48:17.467605Z",
          "iopub.execute_input": "2021-10-27T02:48:17.467824Z",
          "iopub.status.idle": "2021-10-27T02:48:17.479455Z",
          "shell.execute_reply.started": "2021-10-27T02:48:17.467797Z",
          "shell.execute_reply": "2021-10-27T02:48:17.478385Z"
        },
        "trusted": true
      },
      "execution_count": null,
      "outputs": []
    },
    {
      "cell_type": "markdown",
      "source": [
        "#### 7.2.2. Mencari Lokasi yang belum Dikunjungi User"
      ],
      "metadata": {
        "id": "XLHxGm9lElbP"
      }
    },
    {
      "cell_type": "code",
      "source": [
        "# Membuat data lokasi yang belum dikunjungi user\n",
        "place_not_visited = place_df[~place_df['id'].isin(place_visited_by_user.Place_Id.values)]['id']\n",
        "place_not_visited = list(\n",
        "    set(place_not_visited)\n",
        "    .intersection(set(place_to_place_encoded.keys()))\n",
        ")\n",
        "\n",
        "place_not_visited = [[place_to_place_encoded.get(x)] for x in place_not_visited]\n",
        "user_encoder = user_to_user_encoded.get(user_id)\n",
        "user_place_array = np.hstack(\n",
        "    ([[user_encoder]] * len(place_not_visited), place_not_visited)\n",
        ")"
      ],
      "metadata": {
        "id": "V4cGTjABBVVI",
        "execution": {
          "iopub.status.busy": "2021-10-27T02:48:17.480769Z",
          "iopub.execute_input": "2021-10-27T02:48:17.481038Z",
          "iopub.status.idle": "2021-10-27T02:48:17.495192Z",
          "shell.execute_reply.started": "2021-10-27T02:48:17.481001Z",
          "shell.execute_reply": "2021-10-27T02:48:17.494545Z"
        },
        "trusted": true
      },
      "execution_count": null,
      "outputs": []
    },
    {
      "cell_type": "markdown",
      "source": [
        "### 7.3. Menampilkan Hasil Rekomendasi untuk User"
      ],
      "metadata": {
        "id": "RZXkdz27Euik"
      }
    },
    {
      "cell_type": "code",
      "source": [
        "# Mengambil top 7 recommendation\n",
        "ratings = model.predict(user_place_array).flatten()\n",
        "top_ratings_indices = ratings.argsort()[-7:][::-1]\n",
        "recommended_place_ids = [\n",
        "    place_encoded_to_place.get(place_not_visited[x][0]) for x in top_ratings_indices\n",
        "]\n",
        "\n",
        "print('Daftar rekomendasi untuk: {}'.format('User ' + str(user_id)))\n",
        "print('===' * 15,'\\n')\n",
        "print('----' * 15)\n",
        "print('Tempat dengan rating wisata paling tinggi dari user')\n",
        "print('----' * 15)\n",
        "\n",
        "top_place_user = (\n",
        "    place_visited_by_user.sort_values(\n",
        "        by = 'Place_Ratings',\n",
        "        ascending=False\n",
        "    )\n",
        "    .head(5)\n",
        "    .Place_Id.values\n",
        ")\n",
        "\n",
        "place_df_rows = place_df[place_df['id'].isin(top_place_user)]\n",
        "for row in place_df_rows.itertuples():\n",
        "    print(row.place_name, ':', row.category)\n",
        "\n",
        "print('')\n",
        "print('----' * 15)\n",
        "print('Top 7 place recommendation')\n",
        "print('----' * 15)\n",
        "\n",
        "recommended_place = place_df[place_df['id'].isin(recommended_place_ids)]\n",
        "for row, i in zip(recommended_place.itertuples(), range(1,8)):\n",
        "    print(i,'.', row.place_name, '\\n    ', row.category, ',', 'Harga Tiket Masuk ', row.price, ',', 'Rating Wisata ', row.rating,'\\n')\n",
        "\n",
        "print('==='*15)"
      ],
      "metadata": {
        "id": "dVGN5F7JcAi8",
        "execution": {
          "iopub.status.busy": "2021-10-27T02:48:17.498107Z",
          "iopub.execute_input": "2021-10-27T02:48:17.4987Z",
          "iopub.status.idle": "2021-10-27T02:48:17.719402Z",
          "shell.execute_reply.started": "2021-10-27T02:48:17.498653Z",
          "shell.execute_reply": "2021-10-27T02:48:17.717688Z"
        },
        "trusted": true
      },
      "execution_count": null,
      "outputs": []
    },
    {
      "cell_type": "markdown",
      "source": [
        "# Penutup"
      ],
      "metadata": {
        "id": "PNEcoWtNGgeo"
      }
    },
    {
      "cell_type": "markdown",
      "source": [
        "Model untuk menampilkan top 7 rekomendasi tempat wisata telah selesai dibuat dan model ini dapat digunakan untuk menampilkan rekomendasi kepada user yang harapannya dapat meningkatkan jumlah wisatawan di Kota Bandung. Namun demikian beberapa pengembangan lain masih dapat dilakukan agar dapat membuat model yang menampilkan rekomendasi yang lebih sesuai dengan kebiasaan pengguna, dll."
      ],
      "metadata": {
        "id": "GGvF5Y5SGu6O"
      }
    },
    {
      "cell_type": "markdown",
      "source": [
        "## *Referensi*"
      ],
      "metadata": {
        "id": "1UiqtQw7GjtP"
      }
    },
    {
      "cell_type": "markdown",
      "source": [
        "* Seaborn : https://seaborn.pydata.org/tutorial.html\n",
        "* Callback : https://www.tensorflow.org/api_docs/python/tf/keras/callbacks/Callback\n",
        "* Lainnya:\n",
        "  * https://github.com/AgungP88/getloc-apps/tree/machine-learning\n",
        "  * https://www.kaggle.com/ibtesama/getting-started-with-a-movie-recommendation-system\n",
        "  * https://www.kaggle.com/aprabowo/indonesia-tourism-destination\n",
        "  * https://www.dicoding.com/academies/319"
      ],
      "metadata": {
        "id": "lxts6Lj0GwBz"
      }
    }
  ]
}