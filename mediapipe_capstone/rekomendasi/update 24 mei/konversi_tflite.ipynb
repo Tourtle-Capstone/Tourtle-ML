{
  "nbformat": 4,
  "nbformat_minor": 0,
  "metadata": {
    "colab": {
      "provenance": []
    },
    "kernelspec": {
      "name": "python3",
      "display_name": "Python 3"
    },
    "language_info": {
      "name": "python"
    }
  },
  "cells": [
    {
      "cell_type": "code",
      "execution_count": 4,
      "metadata": {
        "id": "DLIP8autOs3H"
      },
      "outputs": [],
      "source": [
        "import tensorflow as tf\n",
        "import os\n",
        "import zipfile\n",
        "\n",
        "\n",
        "\n",
        "# Memuat model dari direktori yang sudah disimpan\n",
        "#model = tf.keras.models.load_model(\"/content/recommender_model\")"
      ]
    },
    {
      "cell_type": "markdown",
      "source": [
        "BUKA FILE ZIP"
      ],
      "metadata": {
        "id": "7i8j9NZ1UU_u"
      }
    },
    {
      "cell_type": "code",
      "source": [
        "#os.listdir(\"/content\")\n",
        "\n",
        "# Nama file zip yang telah diunggah\n",
        "#zip_filename = \"recommender_model.zip\"\n",
        "\n",
        "# Path untuk mengekstrak\n",
        "#extract_path = \"/content\"\n",
        "\n",
        "# Mengekstrak file zip\n",
        "#with zipfile.ZipFile(zip_filename, 'r') as zip_ref:\n",
        "#    zip_ref.extractall(extract_path)\n",
        "\n",
        "# Menampilkan isi dari folder yang telah diekstrak\n",
        "#print(\"Isi folder yang telah diekstrak:\")\n",
        "#print(os.listdir(extract_path))"
      ],
      "metadata": {
        "colab": {
          "base_uri": "https://localhost:8080/"
        },
        "id": "lIFFGfWXQ-lH",
        "outputId": "5d006c73-b89b-4859-d07b-2294a74b29be"
      },
      "execution_count": 5,
      "outputs": [
        {
          "output_type": "stream",
          "name": "stdout",
          "text": [
            "Isi folder yang telah diekstrak:\n",
            "['.config', 'recommender_model', 'recommender_model.zip', 'sample_data']\n"
          ]
        }
      ]
    },
    {
      "cell_type": "code",
      "source": [
        "model = tf.keras.models.load_model(\"/content/recommender_model\")"
      ],
      "metadata": {
        "id": "HVtPVvl2UKRG"
      },
      "execution_count": 6,
      "outputs": []
    },
    {
      "cell_type": "code",
      "source": [
        "# Mengkonversi model TensorFlow menjadi model TFLite\n",
        "converter = tf.lite.TFLiteConverter.from_keras_model(model)\n",
        "tflite_model = converter.convert()"
      ],
      "metadata": {
        "id": "Kx8JDa-eU6m6"
      },
      "execution_count": 7,
      "outputs": []
    },
    {
      "cell_type": "code",
      "source": [
        "# Menyimpan model TensorFlow Lite ke file\n",
        "with open(\"/content/recommender_model.tflite\", \"wb\") as f:\n",
        "    f.write(tflite_model)"
      ],
      "metadata": {
        "id": "uAeQTeliVAVX"
      },
      "execution_count": 8,
      "outputs": []
    }
  ]
}